{
  "nbformat": 4,
  "nbformat_minor": 0,
  "metadata": {
    "colab": {
      "provenance": [],
      "authorship_tag": "ABX9TyMERa3YWO56w1NopuWTJqvl",
      "include_colab_link": true
    },
    "kernelspec": {
      "name": "python3",
      "display_name": "Python 3"
    },
    "language_info": {
      "name": "python"
    }
  },
  "cells": [
    {
      "cell_type": "markdown",
      "metadata": {
        "id": "view-in-github",
        "colab_type": "text"
      },
      "source": [
        "<a href=\"https://colab.research.google.com/github/AtikaTabassum/CSE110/blob/main/Lab1.ipynb\" target=\"_parent\"><img src=\"https://colab.research.google.com/assets/colab-badge.svg\" alt=\"Open In Colab\"/></a>"
      ]
    },
    {
      "cell_type": "code",
      "execution_count": null,
      "metadata": {
        "colab": {
          "base_uri": "https://localhost:8080/"
        },
        "id": "VGNceilecVMp",
        "outputId": "e1504395-f8f0-4f18-e046-b5e03f6a5c4d"
      },
      "outputs": [
        {
          "output_type": "stream",
          "name": "stdout",
          "text": [
            "2\n",
            "6\n",
            "8\n",
            "1.3\n",
            "267\n"
          ]
        }
      ],
      "source": [
        "#print(\"Hello World\")\n",
        "#print(54+56)\n",
        "#season='spring'\n",
        "#year=2023\n",
        "#print(season)\n",
        "#print(year)\n",
        "#name=input('')\n",
        "#print(\"Your name is\",name)\n",
        "#print(\"Your name is\"+name)\n",
        "#M=int(input())\n",
        "#N=int(input())\n",
        "#print(str(M)+\"^\"+str(N)+\":\"+str(M**N))\n",
        "#A=int(input())\n",
        "#print(A-(A%4))\n",
        "#print(int(A/4)*4)\n",
        "A=int(input())\n",
        "B=int(input())\n",
        "C=int(input())\n",
        "D=float(input())\n",
        "print(int((A**C)+(A*B)-(D/3)))\n",
        "#X=int(input())\n",
        "#print(int(X/3))\n",
        "#print(int(X%3))\n",
        "#print(\"Each friend will receive\",int(X/3),\"chocolates\")\n",
        "#print('The number of remaining chocolates is',int(X%3))\n",
        "#X=input()\n",
        "#Y=input()\n",
        "#print(Y+X)\n",
        "#A=int(input())\n",
        "#if A%2:\n",
        " # print(\"true\")\n",
        "#else:\n",
        " #  print(\"false\")"
      ]
    }
  ]
}