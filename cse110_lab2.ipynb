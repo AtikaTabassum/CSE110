{
  "nbformat": 4,
  "nbformat_minor": 0,
  "metadata": {
    "colab": {
      "provenance": [],
      "authorship_tag": "ABX9TyPynewovbw2l4DHdJv+EfJ1",
      "include_colab_link": true
    },
    "kernelspec": {
      "name": "python3",
      "display_name": "Python 3"
    },
    "language_info": {
      "name": "python"
    }
  },
  "cells": [
    {
      "cell_type": "markdown",
      "metadata": {
        "id": "view-in-github",
        "colab_type": "text"
      },
      "source": [
        "<a href=\"https://colab.research.google.com/github/AtikaTabassum/CSE110/blob/main/cse110_lab2.ipynb\" target=\"_parent\"><img src=\"https://colab.research.google.com/assets/colab-badge.svg\" alt=\"Open In Colab\"/></a>"
      ]
    },
    {
      "cell_type": "code",
      "source": [
        "A=int(input(\"Enter the first number:\"))               #1\n",
        "B=int(input(\"Enter the second number:\"))\n",
        "sum=A+B\n",
        "difference=A-B\n",
        "product=A*B\n",
        "print(\"sum =\",sum)\n",
        "print(\"difference =\",difference)\n",
        "print(\"product =\",product)"
      ],
      "metadata": {
        "colab": {
          "base_uri": "https://localhost:8080/"
        },
        "id": "-NizJf6kTyJj",
        "outputId": "2fc5b174-292f-4e94-ee0d-c82b7c8009a2"
      },
      "execution_count": null,
      "outputs": [
        {
          "output_type": "stream",
          "name": "stdout",
          "text": [
            "Enter the first number:4\n",
            "Enter the second number:5\n",
            "sum = 9\n",
            "difference = -1\n",
            "product = 20\n"
          ]
        }
      ]
    },
    {
      "cell_type": "code",
      "source": [
        "import math                                       #2\n",
        "A=float(input(\"Enter the radius value:\"))\n",
        "area=math.pi*(A**2)\n",
        "C=2*math.pi*A\n",
        "print(\"The area is\",area)\n",
        "print(\"The circumference is\",C)"
      ],
      "metadata": {
        "colab": {
          "base_uri": "https://localhost:8080/"
        },
        "id": "ou3rvLGcU-G_",
        "outputId": "191cb577-d7ed-49ab-a10f-e9aff2088fe3"
      },
      "execution_count": null,
      "outputs": [
        {
          "output_type": "stream",
          "name": "stdout",
          "text": [
            "Enter the radius value:1\n",
            "The area is 3.141592653589793\n",
            "The circumference is 6.283185307179586\n"
          ]
        }
      ]
    },
    {
      "cell_type": "code",
      "execution_count": null,
      "metadata": {
        "colab": {
          "base_uri": "https://localhost:8080/"
        },
        "id": "VTmSlxgaeIuf",
        "outputId": "0ad9ccec-ad48-4076-d43e-498bc1c99eca"
      },
      "outputs": [
        {
          "output_type": "stream",
          "name": "stdout",
          "text": [
            "6\n",
            "5\n",
            "The first number is greater\n"
          ]
        }
      ],
      "source": [
        "A=int(input()) #3\n",
        "B=int(input())\n",
        "if A>B:\n",
        "  print(\"The first number is greater\")\n",
        "elif B>A:\n",
        "  print('The second is greater')\n",
        "else:\n",
        "  print('The numbers are equal')"
      ]
    },
    {
      "cell_type": "code",
      "execution_count": null,
      "metadata": {
        "colab": {
          "base_uri": "https://localhost:8080/"
        },
        "outputId": "3720a553-7bf9-480d-f145-e88689d29329",
        "id": "ptbSlYLnhlxf"
      },
      "outputs": [
        {
          "output_type": "stream",
          "name": "stdout",
          "text": [
            "5\n",
            "6\n",
            "1\n"
          ]
        }
      ],
      "source": [
        "A=int(input()) #4\n",
        "B=int(input())\n",
        "if A>B:\n",
        "  print(A-B)\n",
        "elif B>A:\n",
        "  print(B-A)\n",
        "else:\n",
        "  print(0)"
      ]
    },
    {
      "cell_type": "code",
      "source": [
        "A=int(input())     #5\n",
        "if A%2==0:\n",
        "  print(\"even\")\n",
        "else:\n",
        "   print(\"odd\")"
      ],
      "metadata": {
        "colab": {
          "base_uri": "https://localhost:8080/"
        },
        "id": "t2CNB7SziCnf",
        "outputId": "ca0ef1b2-7990-4ac5-9bec-59105c156822"
      },
      "execution_count": null,
      "outputs": [
        {
          "output_type": "stream",
          "name": "stdout",
          "text": [
            "-4\n",
            "even\n"
          ]
        }
      ]
    },
    {
      "cell_type": "code",
      "source": [
        "A=int(input())     #6\n",
        "if A%2==0 or A%5==0:\n",
        "  print(A)\n",
        "else:\n",
        "  print(\"not multiple\")"
      ],
      "metadata": {
        "colab": {
          "base_uri": "https://localhost:8080/"
        },
        "id": "yppnxVFri37g",
        "outputId": "6c567108-22d6-49c3-c6aa-5f995baa594e"
      },
      "execution_count": null,
      "outputs": [
        {
          "output_type": "stream",
          "name": "stdout",
          "text": [
            "7\n",
            "not multiple\n"
          ]
        }
      ]
    },
    {
      "cell_type": "code",
      "source": [
        "A=int(input())    #7\n",
        "if A%2==0 and A%5==0:\n",
        "  print(\"both\")\n",
        "elif A%5==0 or A%2==0 :\n",
        "  print(A)\n",
        "else:\n",
        "  print(\"none\")"
      ],
      "metadata": {
        "colab": {
          "base_uri": "https://localhost:8080/"
        },
        "outputId": "7f60b481-fe96-400f-db17-eab25fcb421e",
        "id": "ClXCZs1vkI6L"
      },
      "execution_count": null,
      "outputs": [
        {
          "output_type": "stream",
          "name": "stdout",
          "text": [
            "10\n",
            "both\n"
          ]
        }
      ]
    },
    {
      "cell_type": "code",
      "source": [
        "A=int(input())    #8\n",
        "if A%2==0 and A%5==0:\n",
        "  print(\"both\")\n",
        "else:\n",
        "  print(\"none\")"
      ],
      "metadata": {
        "colab": {
          "base_uri": "https://localhost:8080/"
        },
        "outputId": "c6b7cb26-db94-4c25-86af-e9caf310fc34",
        "id": "bGCPzB_MmEBX"
      },
      "execution_count": null,
      "outputs": [
        {
          "output_type": "stream",
          "name": "stdout",
          "text": [
            "1\n",
            "none\n"
          ]
        }
      ]
    },
    {
      "cell_type": "code",
      "source": [
        "A=int(input()) #9\n",
        "X=A//3600\n",
        "Y=A%3600\n",
        "Z=Y//60\n",
        "P=Z%60\n",
        "print(X,\"hour\",Z,\"min\",P,\"sec\")"
      ],
      "metadata": {
        "id": "ztoSCwf-lNjc",
        "colab": {
          "base_uri": "https://localhost:8080/"
        },
        "outputId": "6fe83b69-0431-4b65-a854-c75706634185"
      },
      "execution_count": null,
      "outputs": [
        {
          "output_type": "stream",
          "name": "stdout",
          "text": [
            "10000\n",
            "2 hour 46 min 46 sec\n"
          ]
        }
      ]
    },
    {
      "cell_type": "code",
      "source": [
        "A=int(input())   #10\n",
        "if 0<=A<=40:\n",
        "  print(A*200)\n",
        "elif 40<A<=168:\n",
        "  print(800+(A-40)*300)\n",
        "elif A<0:\n",
        "  print(\"less than 0\")\n",
        "else:\n",
        "   print('more than 168')"
      ],
      "metadata": {
        "colab": {
          "base_uri": "https://localhost:8080/"
        },
        "id": "Fgj7J19vpLkY",
        "outputId": "9093b1fa-4fda-4acb-c4d0-480a7ee79211"
      },
      "execution_count": null,
      "outputs": [
        {
          "output_type": "stream",
          "name": "stdout",
          "text": [
            "180\n",
            "more than 168\n"
          ]
        }
      ]
    },
    {
      "cell_type": "code",
      "source": [
        "S=int(input())  #11\n",
        "if S<100:\n",
        "  L=3000-125*(S**2)\n",
        "  print(L)\n",
        "else:\n",
        "  L=1200/(4+((S**2)/14900))\n",
        "  print(L)\n"
      ],
      "metadata": {
        "colab": {
          "base_uri": "https://localhost:8080/"
        },
        "id": "vjbTZFspsRYK",
        "outputId": "bbaab922-32e4-49cc-829c-5ff522477c58"
      },
      "execution_count": null,
      "outputs": [
        {
          "output_type": "stream",
          "name": "stdout",
          "text": [
            "3\n",
            "1875\n"
          ]
        }
      ]
    },
    {
      "cell_type": "code",
      "source": [
        "A=int(input()) #12\n",
        "if 0<=A<=23:\n",
        "  if 4<=A<=6:\n",
        "    print(\"breakfast\")\n",
        "  elif 12<=A<=13:\n",
        "    print(\"lunch\")\n",
        "  elif 16<=A<=17:\n",
        "    print(\"snacks\")\n",
        "  elif 19<=A<=20:\n",
        "    print(\"dinner\")\n",
        "  else:\n",
        "    print(\"patience is virtue\")\n",
        "else:\n",
        "  print(\"wrong time\")"
      ],
      "metadata": {
        "colab": {
          "base_uri": "https://localhost:8080/"
        },
        "id": "Jj81N3-ayuRL",
        "outputId": "8acf7fcb-66dd-48db-9959-37c4cdb1f4a6"
      },
      "execution_count": null,
      "outputs": [
        {
          "output_type": "stream",
          "name": "stdout",
          "text": [
            "-1\n",
            "wrong time\n"
          ]
        }
      ]
    },
    {
      "cell_type": "code",
      "source": [
        "A=int(input())   #13\n",
        "if 0<=A<=100:\n",
        "  if A>=90:\n",
        "    print(\"A\")\n",
        "  elif 80<=A<=89:\n",
        "    print(\"B\")\n",
        "  elif 70<=A<=79:\n",
        "    print(\"C\")\n",
        "  elif 60<=A<=69:\n",
        "    print(\"D\")\n",
        "  elif 50<=A<=59:\n",
        "    print(\"E\")\n",
        "  else:\n",
        "    print(\"F\")\n",
        "else:\n",
        "    print(\"invalid\")"
      ],
      "metadata": {
        "colab": {
          "base_uri": "https://localhost:8080/"
        },
        "id": "hKHHVV7u1SWF",
        "outputId": "4a7205f0-0c7e-4b46-cef8-b62d95d9026c"
      },
      "execution_count": null,
      "outputs": [
        {
          "output_type": "stream",
          "name": "stdout",
          "text": [
            "101\n",
            "invalid\n"
          ]
        }
      ]
    },
    {
      "cell_type": "code",
      "source": [
        "A=int(input())  #14\n",
        "B=int(input())\n",
        "X=A/1000\n",
        "Y=B/3600\n",
        "Z=X/Y\n",
        "if Z<60:\n",
        "  print(\"too slow\")\n",
        "elif 60<=Z<=90:\n",
        "  print(\"okay\")\n",
        "else:\n",
        "  print(\"too fast\")\n",
        ""
      ],
      "metadata": {
        "colab": {
          "base_uri": "https://localhost:8080/"
        },
        "id": "1NHV2k8Owg1A",
        "outputId": "f2ccb303-ae45-4369-fe92-4895b0dceca0"
      },
      "execution_count": null,
      "outputs": [
        {
          "output_type": "stream",
          "name": "stdout",
          "text": [
            "160000\n",
            "7200\n",
            "okay\n"
          ]
        }
      ]
    },
    {
      "cell_type": "code",
      "source": [
        "A=int(input())             #15\n",
        "B=float(input())\n",
        "if A>=30:\n",
        "  if 3.80<=B<=3.89:\n",
        "    print(\"25 percent\")\n",
        "  elif 3.90<=B<=3.94:\n",
        "    print(\"50 percent\")\n",
        "  elif 3.95<=B<=3.99:\n",
        "    print(\"75 percent\")\n",
        "  elif B==4.00:\n",
        "    print(\"100 percent\")\n",
        "  else:\n",
        "    print(\"invalid\")\n",
        "else:\n",
        "  print(\"invalid\")"
      ],
      "metadata": {
        "colab": {
          "base_uri": "https://localhost:8080/"
        },
        "id": "PZr5EXfI2zGt",
        "outputId": "203df834-8045-475f-de5c-11fa494e82c9"
      },
      "execution_count": null,
      "outputs": [
        {
          "output_type": "stream",
          "name": "stdout",
          "text": [
            "34\n",
            "4\n",
            "100 percent\n"
          ]
        }
      ]
    }
  ]
}